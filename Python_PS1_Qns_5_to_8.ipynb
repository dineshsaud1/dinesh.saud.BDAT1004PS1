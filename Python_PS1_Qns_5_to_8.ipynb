{
 "cells": [
  {
   "cell_type": "markdown",
   "id": "ed9cad46",
   "metadata": {},
   "source": [
    "# C# Assingment\n",
    "\n",
    "### Question 6\n",
    "\n",
    "#### You can turn a word into pig-Latin using the following two rules (simplified):\n",
    "If the word starts with a consonant, move that letter to the end and append 'ay'. For example, 'happy' becomes 'appyhay' and 'pencil' becomes 'encilpay'.\n",
    "\n",
    "<br>\n",
    "\n",
    " If the word starts with a vowel, simply append 'way' to the end of the word. For example, 'enter' becomes 'enterway' and 'other' becomes 'otherway' . For our purposes, there are 5 vowels: a, e, i, o, u (so we count y as a consonant).\n",
    "\n",
    "#### Write a function pig() that takes a word (i.e., a string) as input and returns its pigLatin form. Your function should still work if the input word contains upper case characters. Your output should always be lower case however.\n",
    "pig('happy') <br>\n",
    "'appyhay'<br>\n",
    "pig('Enter')<br>\n",
    "'enterway'"
   ]
  },
  {
   "cell_type": "markdown",
   "id": "ff6c50f8",
   "metadata": {},
   "source": []
  },
  {
   "cell_type": "code",
   "execution_count": null,
   "id": "f5905767",
   "metadata": {},
   "outputs": [],
   "source": [
    "user_input = input(\"Enter a word: \")\n",
    "\n",
    "def pig(user_input):\n",
    "    # Change the input provided by the user to lowercase in order to manage uppercase characters.\n",
    "\n",
    "    user_input = user_input.lower()\n",
    "\n",
    "    # Check if the user data starts with a vowel\n",
    "    if user_input[0] in ['a', 'e', 'i', 'o', 'u']:\n",
    "        return user_input + 'way'\n",
    "    else:\n",
    "        return user_input[1:] + user_input[0] + 'ay'\n",
    "\n",
    "\n",
    "print(pig(user_input))\n",
    "\n"
   ]
  },
  {
   "cell_type": "markdown",
   "id": "31c45aeb",
   "metadata": {},
   "source": [
    "### Question 7\n",
    "\n",
    "#### File bloodtype1.txt records blood-types of patients (A, B, AB, O or OO) at a clinic. Write a function bldcount() that reads the file with name name and reports (i.e. prints) how many patients there are in each bloodtype.\n",
    "bldcount('bloodtype.txt')<br><br>\n",
    "There are 10 patients of blood type A.<br>\n",
    "There is one patient of blood type B.<br>\n",
    "There are 10 patients of blood type AB.<br>\n",
    "There are 12 patients of blood type O.<br>\n",
    "There are no patients of blood type OO."
   ]
  },
  {
   "cell_type": "code",
   "execution_count": null,
   "id": "6c2911ad",
   "metadata": {},
   "outputs": [],
   "source": [
    "def bldcount(name):\n",
    "    Type_of_blood_count = {\n",
    "        'A': 0,\n",
    "        'B': 0,\n",
    "        'AB': 0,\n",
    "        'O': 0,\n",
    "        'OO': 0\n",
    "    }\n",
    "    try:\n",
    "        with open(name, 'r') as file:\n",
    "            for blood_line in file:\n",
    "                List_of_Type = blood_line.strip().upper().split()\n",
    "            for Type_of_blood in List_of_Type:\n",
    "                if Type_of_blood in Type_of_blood_count:\n",
    "                    Type_of_blood_count[Type_of_blood] += 1\n",
    "                else:\n",
    "                    print(f\"Invalid is invalid: {Type_of_blood}\")\n",
    "        for Type_of_blood, count in Type_of_blood_count.items():\n",
    "            print(f\"Total {count} patients have blood type {Type_of_blood}\")\n",
    "    except FileNotFoundError:\n",
    "        print(f\"File '{name}' not found.\")\n",
    "    except Exception as e:\n",
    "        print(f\"An error occurred: {str(e)}\")\n",
    "\n",
    "bldcount('bloodtype1.txt')\n"
   ]
  },
  {
   "cell_type": "markdown",
   "id": "7ac137f4",
   "metadata": {},
   "source": [
    "### Question 8 \n",
    "\n",
    "#### Write a function curconv() that takes as input:\n",
    "1. a currency represented using a string (e.g., 'JPY' for the Japanese Yen or\n",
    "'EUR' for the Euro)\n",
    "2. an amount\n",
    "and then converts and returns the amount in US dollars."
   ]
  },
  {
   "cell_type": "code",
   "execution_count": null,
   "id": "67daad33",
   "metadata": {},
   "outputs": [],
   "source": [
    "given_curency = input(\"Your desired curency: \")\n",
    "amt = float(input(\"Enter Amount you want to convert: \"))\n",
    "\n",
    "def curconv(currency, amt):\n",
    "    curency_rate = {}\n",
    "\n",
    "    with open('currencies.txt', 'r') as file:\n",
    "        for line in file:\n",
    "            individual_cols = line.split()\n",
    "            # Extract the currency code (e.g., 'EUR') and the conversion rate\n",
    "            currency_code = individual_cols[0]\n",
    "            conversion_rate = float(individual_cols[1])\n",
    "            curency_rate[currency_code] = conversion_rate\n",
    "    if currency in curency_rate:\n",
    "        conversion_rate = curency_rate[currency]\n",
    "        converted_amt = amt * conversion_rate\n",
    "        return converted_amt\n",
    "    else:\n",
    "        return \"Sorry we dont have that curency\"\n",
    "    \n",
    "\n",
    "print(curconv(given_curency, amt))\n"
   ]
  },
  {
   "cell_type": "markdown",
   "id": "f82f2a9e",
   "metadata": {},
   "source": [
    "### Question 9 \n",
    "\n",
    "#### Each of the following will cause an exception (an error). Identify what type of exception each will cause."
   ]
  },
  {
   "cell_type": "markdown",
   "id": "80a278fa",
   "metadata": {},
   "source": [
    "1. Trying to add incompatible variables, as in adding 6 + 'a':<br>\n",
    "   * gives `TypeError` because we can't directly integer `6` and a string `'a'` together.\n",
    "\n",
    "2. Referring to the 12th item of a list that has only 10 items:<br>\n",
    "   * gives `IndexError` we are accessing index `12` that is beyond the range of list (which only contains 10 items).\n",
    "\n",
    "3. Using a value that is out of range for a function's input, such as calling `math.sqrt(-1.0)`:<br>\n",
    "   * gives `ValueError` because the `math.sqrt` function expecting a non negative value, and trying to take the square root of a negative number is mathematically not defined.\n",
    "\n",
    "4. Using an undeclared variable, such as `print(x)` when `x` has not been defined:<br>\n",
    "   * gives `NameError` because Python dont know `x` is since it has not been declared or assigned a value before trying to use it.\n",
    "   \n",
    "5. Trying to open a file that does not exist, such as mistyping the file name or looking in the wrong directory:<br>\n",
    "   * gives `FileNotFoundError` if the file we are trying to open does not exist in the specified location.\n"
   ]
  },
  {
   "cell_type": "code",
   "execution_count": null,
   "id": "0baa10ba",
   "metadata": {},
   "outputs": [],
   "source": []
  },
  {
   "cell_type": "markdown",
   "id": "075b3fbe",
   "metadata": {},
   "source": [
    "## Question 10 \n",
    "\n",
    "#### Encryption is the process of hiding the meaning of a text by substituting letters in the message with other letters, according to some system. If the process is successful, no one but the intended recipient can understand the encrypted message. Cryptanalysis refers to attempts to undo the encryption, even if some details of the encryption are unknown (for example, if an encrypted message has been intercepted). The first step of cryptanalysis is often to build up a table of letter frequencies in the encrypted text. Assume that the string letters is already defined as 'abcdefghijklmnopqrstuvwxyz'. Write a function called frequencies() that takes a string as its only parameter, and returns a list of integers, showing the number of times each character appears in the text. Your function may ignore any characters that are not in letters.<br>\n",
    "frequencies('The quick red fox got bored and went home.')<br>\n",
    "[1, 1, 1, 3, 5, 1, 1, 2, 1, 0, 1, 0, 1, 2, 4, 0, 1, 2, 0, 2, 1, 0, 1, 1, 0, 0]"
   ]
  },
  {
   "cell_type": "code",
   "execution_count": null,
   "id": "cd8f831a",
   "metadata": {},
   "outputs": [],
   "source": [
    "def frequencies(input_string):\n",
    "    string_frequency = [0] * 26\n",
    "    input_string = input_string.lower()\n",
    "    \n",
    "    for char in input_string:\n",
    "        if char in 'abcdefghijklmnopqrstuvwxyz':\n",
    "            index = ord(char) - ord('a')\n",
    "            string_frequency[index] += 1\n",
    "    \n",
    "    return string_frequency\n",
    "\n",
    "input_string = input(\"Enter a string Value: \")\n",
    "output = frequencies(input_string)\n",
    "print(output)\n"
   ]
  },
  {
   "cell_type": "code",
   "execution_count": null,
   "id": "ae2e7d59",
   "metadata": {},
   "outputs": [],
   "source": []
  }
 ],
 "metadata": {
  "kernelspec": {
   "display_name": "Python 3 (ipykernel)",
   "language": "python",
   "name": "python3"
  },
  "language_info": {
   "codemirror_mode": {
    "name": "ipython",
    "version": 3
   },
   "file_extension": ".py",
   "mimetype": "text/x-python",
   "name": "python",
   "nbconvert_exporter": "python",
   "pygments_lexer": "ipython3",
   "version": "3.11.4"
  }
 },
 "nbformat": 4,
 "nbformat_minor": 5
}
